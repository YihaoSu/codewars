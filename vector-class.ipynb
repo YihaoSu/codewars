{
 "cells": [
  {
   "cell_type": "markdown",
   "metadata": {},
   "source": [
    "# Kata: [Vector class](https://www.codewars.com/kata/vector-class)"
   ]
  },
  {
   "cell_type": "markdown",
   "metadata": {},
   "source": [
    "## 解法1:"
   ]
  },
  {
   "cell_type": "code",
   "execution_count": 1,
   "metadata": {
    "collapsed": false
   },
   "outputs": [
    {
     "name": "stdout",
     "output_type": "stream",
     "text": [
      "[4 6 8]\n",
      "[-2 -2 -2]\n",
      "26\n",
      "3.74165738677\n",
      "Error: two vectors with different lengths!\n"
     ]
    }
   ],
   "source": [
    "import numpy as np\n",
    "\n",
    "class Vector:\n",
    "    def __init__(self, vlst):\n",
    "        self.v = np.array(vlst)\n",
    "    def toString(self):\n",
    "        return tuple(self.v).__str__().replace(' ','')\n",
    "    def add(self, vector):\n",
    "        try:\n",
    "            return Vector(self.v + vector.v)\n",
    "        except:\n",
    "            print('Error: two vectors with different lengths!')\n",
    "    def subtract(self, vector):\n",
    "        try:\n",
    "            return Vector(self.v - vector.v)\n",
    "        except:\n",
    "            print('Error: two vectors with different lengths!')\n",
    "    def dot(self, vector):\n",
    "        try:\n",
    "            return np.dot(self.v, vector.v)\n",
    "        except:\n",
    "            print('Error: two vectors with different lengths!')\n",
    "    def norm(self):\n",
    "        return np.linalg.norm(self.v)\n",
    "    def equals(self, vector):\n",
    "        return np.array_equal(self.v, vector.v)\n",
    "    \n",
    "    \n",
    "a = Vector([1,2,3])\n",
    "b = Vector([3,4,5])\n",
    "c = Vector([5,6,7,8])\n",
    "print(a.add(b).v) # should return Vector([4,6,8])\n",
    "print(a.subtract(b).v) # should return Vector([-2,-2,-2])\n",
    "print(a.dot(b)) # should return 1*3+2*4+3*5 = 26\n",
    "print(a.norm()) # should return sqrt(1^2+2^2+3^2)=sqrt(14)\n",
    "a.add(c) # raises an exception"
   ]
  },
  {
   "cell_type": "code",
   "execution_count": 2,
   "metadata": {
    "collapsed": false
   },
   "outputs": [
    {
     "data": {
      "text/plain": [
       "True"
      ]
     },
     "execution_count": 2,
     "metadata": {},
     "output_type": "execute_result"
    }
   ],
   "source": [
    "a.toString() == '(1,2,3)'"
   ]
  }
 ],
 "metadata": {
  "anaconda-cloud": {},
  "kernelspec": {
   "display_name": "Python [conda root]",
   "language": "python",
   "name": "conda-root-py"
  },
  "language_info": {
   "codemirror_mode": {
    "name": "ipython",
    "version": 3
   },
   "file_extension": ".py",
   "mimetype": "text/x-python",
   "name": "python",
   "nbconvert_exporter": "python",
   "pygments_lexer": "ipython3",
   "version": "3.5.2"
  }
 },
 "nbformat": 4,
 "nbformat_minor": 1
}
