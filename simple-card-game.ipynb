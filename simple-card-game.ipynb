{
 "cells": [
  {
   "cell_type": "markdown",
   "metadata": {},
   "source": [
    "# Kata: [Simple card game](https://www.codewars.com/kata/simple-card-game)"
   ]
  },
  {
   "cell_type": "markdown",
   "metadata": {},
   "source": [
    "## 解法1:"
   ]
  },
  {
   "cell_type": "code",
   "execution_count": 1,
   "metadata": {
    "collapsed": false
   },
   "outputs": [
    {
     "data": {
      "text/plain": [
       "'Steve wins 2 to 1'"
      ]
     },
     "execution_count": 1,
     "metadata": {},
     "output_type": "execute_result"
    }
   ],
   "source": [
    "import numpy as np\n",
    "\n",
    "def winner(deck_steve, deck_josh):\n",
    "    card_dic = {'2':2, '3':3, '4': 4, '5':5, '6': 6, '7':7, '8':8, '9':9, 'T':10, 'J':11, 'Q':12, 'K':13, 'A':14}\n",
    "    card_steve = np.array([card_dic[i] for i in deck_steve])\n",
    "    card_josh = np.array([card_dic[i] for i in deck_josh])\n",
    "    point_steve = len((card_steve[card_steve > card_josh]))\n",
    "    point_josh = len((card_steve[card_steve < card_josh]))    \n",
    "    if point_steve > point_josh:\n",
    "        return \"Steve wins \" + str(point_steve) + \" to \" + str(point_josh)\n",
    "    elif point_steve < point_josh:\n",
    "        return \"Josh wins \" + str(point_josh) + \" to \" + str(point_steve)\n",
    "    else:\n",
    "        return \"Tie\"\n",
    "\n",
    "winner([\"A\", \"7\", \"8\"], [\"K\", \"5\", \"9\"])"
   ]
  }
 ],
 "metadata": {
  "anaconda-cloud": {},
  "kernelspec": {
   "display_name": "Python [conda root]",
   "language": "python",
   "name": "conda-root-py"
  },
  "language_info": {
   "codemirror_mode": {
    "name": "ipython",
    "version": 3
   },
   "file_extension": ".py",
   "mimetype": "text/x-python",
   "name": "python",
   "nbconvert_exporter": "python",
   "pygments_lexer": "ipython3",
   "version": "3.5.2"
  }
 },
 "nbformat": 4,
 "nbformat_minor": 1
}
