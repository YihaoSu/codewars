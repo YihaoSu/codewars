{
 "cells": [
  {
   "cell_type": "markdown",
   "metadata": {},
   "source": [
    "# Kata: [Linear Regression of Y on X](https://www.codewars.com/kata/linear-regression-of-y-on-x/)"
   ]
  },
  {
   "cell_type": "markdown",
   "metadata": {},
   "source": [
    "## 解法1:"
   ]
  },
  {
   "cell_type": "code",
   "execution_count": 1,
   "metadata": {
    "collapsed": false
   },
   "outputs": [
    {
     "name": "stdout",
     "output_type": "stream",
     "text": [
      "(114.381, -1.4457)\n",
      "(80.777699999999996, 1.1379999999999999)\n"
     ]
    }
   ],
   "source": [
    "def regressionLine(x, y):\n",
    "    \"\"\" Return the a (intercept)\n",
    "        and b (slope) of Regression Line \n",
    "        (Y on X).\n",
    "    \"\"\"\n",
    "    import numpy as np\n",
    "    n = len(x)\n",
    "    a = np.sum(np.power(x, 2)) * np.sum(y) - np.sum(x) * np.sum(np.multiply(x, y))\n",
    "    b = n * np.sum(np.multiply(x, y)) - np.sum(x) * np.sum(y)\n",
    "    c = n * np.sum(np.power(x, 2)) - np.sum(x) ** 2\n",
    "    return (a / c).round(decimals=4), (b / c).round(decimals=4) \n",
    "\n",
    "print(regressionLine([25,30,35,40,45,50], [78,70,65,58,48,42]))\n",
    "print(regressionLine([56,42,72,36,63,47,55,49,38,42,68,60], [147,125,160,118,149,128,150,145,115,140,152,155]))"
   ]
  },
  {
   "cell_type": "markdown",
   "metadata": {},
   "source": [
    "## 解法2:"
   ]
  },
  {
   "cell_type": "code",
   "execution_count": 2,
   "metadata": {
    "collapsed": false
   },
   "outputs": [
    {
     "name": "stdout",
     "output_type": "stream",
     "text": [
      "(114.381, -1.4457)\n",
      "(80.777699999999996, 1.1379999999999999)\n"
     ]
    }
   ],
   "source": [
    "def regressionLine(x, y):\n",
    "    \"\"\" Return the a (intercept)\n",
    "        and b (slope) of Regression Line \n",
    "        (Y on X).\n",
    "    \"\"\"\n",
    "    import numpy as np\n",
    "    b, a = np.polyfit(x, y, 1)\n",
    "    return (a.round(decimals=4) , b.round(decimals=4))\n",
    "\n",
    "print(regressionLine([25,30,35,40,45,50], [78,70,65,58,48,42]))\n",
    "print(regressionLine([56,42,72,36,63,47,55,49,38,42,68,60], [147,125,160,118,149,128,150,145,115,140,152,155]))"
   ]
  }
 ],
 "metadata": {
  "anaconda-cloud": {},
  "kernelspec": {
   "display_name": "Python [conda root]",
   "language": "python",
   "name": "conda-root-py"
  },
  "language_info": {
   "codemirror_mode": {
    "name": "ipython",
    "version": 3
   },
   "file_extension": ".py",
   "mimetype": "text/x-python",
   "name": "python",
   "nbconvert_exporter": "python",
   "pygments_lexer": "ipython3",
   "version": "3.5.2"
  }
 },
 "nbformat": 4,
 "nbformat_minor": 1
}
