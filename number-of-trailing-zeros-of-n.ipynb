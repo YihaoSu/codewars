{
 "cells": [
  {
   "cell_type": "markdown",
   "metadata": {},
   "source": [
    "# Kata: [Number of trailing zeros of N!](https://www.codewars.com/kata/number-of-trailing-zeros-of-n)"
   ]
  },
  {
   "cell_type": "markdown",
   "metadata": {},
   "source": [
    "* 在Python 中計算階層(factorial)的方法: math.factorial, numpy.math.factorial, scipy.math.factorial"
   ]
  },
  {
   "cell_type": "markdown",
   "metadata": {},
   "source": [
    "## 解法1 (被判定Codewars沒效率):"
   ]
  },
  {
   "cell_type": "code",
   "execution_count": 1,
   "metadata": {
    "collapsed": false
   },
   "outputs": [
    {
     "name": "stdout",
     "output_type": "stream",
     "text": [
      "2\n",
      "249\n"
     ]
    }
   ],
   "source": [
    "import numpy as np\n",
    "\n",
    "def zeros(n):\n",
    "    if n < 5:\n",
    "        return 0\n",
    "    else:\n",
    "        f = np.math.factorial(n)\n",
    "        i = 1\n",
    "        while str(f // (10 ** i))[-1] == '0':\n",
    "            i = i + 1    \n",
    "        return i\n",
    "\n",
    "print(zeros(12))\n",
    "print(zeros(1000))"
   ]
  },
  {
   "cell_type": "markdown",
   "metadata": {},
   "source": [
    "## 解法2 (被Codewars判定沒效率):"
   ]
  },
  {
   "cell_type": "code",
   "execution_count": 2,
   "metadata": {
    "collapsed": false
   },
   "outputs": [
    {
     "name": "stdout",
     "output_type": "stream",
     "text": [
      "2\n",
      "249\n"
     ]
    }
   ],
   "source": [
    "import numpy as np\n",
    "\n",
    "def zeros(n):\n",
    "    f = np.math.factorial(n)    \n",
    "    i = 1\n",
    "    while np.sum(np.array([n for n in str(f)], int)[-i:]) == 0:\n",
    "        i = i + 1    \n",
    "    return i-1\n",
    "\n",
    "print(zeros(12))\n",
    "print(zeros(1000))"
   ]
  },
  {
   "cell_type": "markdown",
   "metadata": {},
   "source": [
    "## 解法3 (被Codewars判定沒效率):"
   ]
  },
  {
   "cell_type": "code",
   "execution_count": 3,
   "metadata": {
    "collapsed": false
   },
   "outputs": [
    {
     "name": "stdout",
     "output_type": "stream",
     "text": [
      "2\n",
      "249\n"
     ]
    }
   ],
   "source": [
    "import numpy as np\n",
    "\n",
    "def zeros(n):\n",
    "    f = np.math.factorial(n)\n",
    "    #arry = np.array([n for n in str(f)], int)[::-1]\n",
    "    arry = np.array(list(str(f)), int)[::-1]\n",
    "    ind = np.nonzero(arry)[0]          \n",
    "    return ind.min()\n",
    "\n",
    "print(zeros(12))\n",
    "print(zeros(1000))"
   ]
  }
 ],
 "metadata": {
  "anaconda-cloud": {},
  "kernelspec": {
   "display_name": "Python [conda root]",
   "language": "python",
   "name": "conda-root-py"
  },
  "language_info": {
   "codemirror_mode": {
    "name": "ipython",
    "version": 3
   },
   "file_extension": ".py",
   "mimetype": "text/x-python",
   "name": "python",
   "nbconvert_exporter": "python",
   "pygments_lexer": "ipython3",
   "version": "3.5.2"
  }
 },
 "nbformat": 4,
 "nbformat_minor": 1
}
