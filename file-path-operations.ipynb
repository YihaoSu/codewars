{
 "cells": [
  {
   "cell_type": "markdown",
   "metadata": {},
   "source": [
    "# Kata: [File Path Operations](https://www.codewars.com/kata/file-path-operations)"
   ]
  },
  {
   "cell_type": "markdown",
   "metadata": {},
   "source": [
    "## 解法1:"
   ]
  },
  {
   "cell_type": "code",
   "execution_count": 1,
   "metadata": {
    "collapsed": false
   },
   "outputs": [
    {
     "name": "stdout",
     "output_type": "stream",
     "text": [
      "png\n",
      "house\n",
      "/Users/person1/Pictures/\n"
     ]
    }
   ],
   "source": [
    "class FileMaster():\n",
    "    def __init__(self, filepath):\n",
    "        self.filepath = filepath\n",
    "        self.file = self.filepath.split('/')[-1]\n",
    "    def extension(self):\n",
    "        return self.file.split('.')[-1]\n",
    "    def filename(self):        \n",
    "        return self.file.split('.')[0]\n",
    "    def dirpath(self):\n",
    "        return self.filepath.split(self.file)[0]\n",
    "        \n",
    "master = FileMaster('/Users/person1/Pictures/house.png')\n",
    "print(master.extension())\n",
    "print(master.filename())\n",
    "print(master.dirpath())"
   ]
  }
 ],
 "metadata": {
  "anaconda-cloud": {},
  "kernelspec": {
   "display_name": "Python [conda root]",
   "language": "python",
   "name": "conda-root-py"
  },
  "language_info": {
   "codemirror_mode": {
    "name": "ipython",
    "version": 3
   },
   "file_extension": ".py",
   "mimetype": "text/x-python",
   "name": "python",
   "nbconvert_exporter": "python",
   "pygments_lexer": "ipython3",
   "version": "3.5.2"
  }
 },
 "nbformat": 4,
 "nbformat_minor": 1
}
